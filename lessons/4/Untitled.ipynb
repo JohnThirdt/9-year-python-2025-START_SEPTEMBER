{
 "cells": [
  {
   "cell_type": "markdown",
   "id": "88e42e78-c0a3-42b5-947f-32000833ea53",
   "metadata": {},
   "source": [
    "# Лекция № 4\n",
    "Проиллюстрировать закона Ома для участков цепи на графиках."
   ]
  },
  {
   "cell_type": "code",
   "execution_count": 4,
   "id": "02e3370b-1a2c-40ad-9665-dd4ab066d1ca",
   "metadata": {},
   "outputs": [],
   "source": [
    "def factorial(n):\n",
    "    if n== 0:\n",
    "        return 1\n",
    "    return factorial(n-1)*n"
   ]
  },
  {
   "cell_type": "code",
   "execution_count": 5,
   "id": "63f7aaa6-18e2-4405-b2fb-0d2dcf3c667c",
   "metadata": {},
   "outputs": [
    {
     "data": {
      "text/plain": [
       "20922789888000"
      ]
     },
     "execution_count": 5,
     "metadata": {},
     "output_type": "execute_result"
    }
   ],
   "source": [
    "factorial(16)"
   ]
  },
  {
   "cell_type": "code",
   "execution_count": 6,
   "id": "b9323555-2793-4f12-bad9-2d6d25139809",
   "metadata": {},
   "outputs": [],
   "source": [
    "x = [i for i in range(1, 20)]\n",
    "\n",
    "y = [factorial(i) for i in x]"
   ]
  },
  {
   "cell_type": "code",
   "execution_count": 7,
   "id": "b6ad8be5-6765-4d8c-83f0-b0c39ae9670c",
   "metadata": {},
   "outputs": [
    {
     "data": {
      "text/plain": [
       "[1,\n",
       " 2,\n",
       " 6,\n",
       " 24,\n",
       " 120,\n",
       " 720,\n",
       " 5040,\n",
       " 40320,\n",
       " 362880,\n",
       " 3628800,\n",
       " 39916800,\n",
       " 479001600,\n",
       " 6227020800,\n",
       " 87178291200,\n",
       " 1307674368000,\n",
       " 20922789888000,\n",
       " 355687428096000,\n",
       " 6402373705728000,\n",
       " 121645100408832000]"
      ]
     },
     "execution_count": 7,
     "metadata": {},
     "output_type": "execute_result"
    }
   ],
   "source": [
    "y"
   ]
  },
  {
   "cell_type": "markdown",
   "id": "bdd2d323-474d-4bfc-b13d-cb39981d00c9",
   "metadata": {},
   "source": [
    "$Q = cm \\Delta T$\n",
    "\n",
    "$Q = \\lambda m$\n",
    "\n",
    "Три закона Ньютона\n",
    "1. Существуют инерциальные системы отсчета\n",
    "2. $F = ma$ ,   $a = \\frac{F}{m}$\n",
    "3. $F_1 = -F_2$\n",
    "\n",
    "Законы в механнике\n",
    "\n",
    "$s = vt$\\\n",
    "$ v = v_0 + at$ \n",
    "\n",
    "$ x(t) = x_0 + v_0 t + \\frac{a t^2}{2}  $"
   ]
  },
  {
   "cell_type": "code",
   "execution_count": null,
   "id": "246587de-5e06-4144-af14-9e8e689b2632",
   "metadata": {},
   "outputs": [],
   "source": []
  }
 ],
 "metadata": {
  "kernelspec": {
   "display_name": "Python 3 (ipykernel)",
   "language": "python",
   "name": "python3"
  },
  "language_info": {
   "codemirror_mode": {
    "name": "ipython",
    "version": 3
   },
   "file_extension": ".py",
   "mimetype": "text/x-python",
   "name": "python",
   "nbconvert_exporter": "python",
   "pygments_lexer": "ipython3",
   "version": "3.12.2"
  }
 },
 "nbformat": 4,
 "nbformat_minor": 5
}
